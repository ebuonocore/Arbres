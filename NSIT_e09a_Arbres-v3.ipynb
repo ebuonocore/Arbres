{
 "cells": [
  {
   "cell_type": "markdown",
   "metadata": {},
   "source": [
    "<div style=\"width:100%;border-collapse:separate;border:solid 2px;border-radius:14px;\">\n",
    "    <div style=\"display:flex;\">\n",
    "        <div style=\"display:inline;width:5%;\"></div>\n",
    "        <div style=\"display:inline;width:15%;\">NSIT</div>\n",
    "        <div style=\"display:inline;width:15%;\">e09a</div>\n",
    "        <div style=\"display:inline;width:70%;text-align:right;\"><b>Structures de données</b></div>\n",
    "        <div style=\"display:inline;width:5%;\"></div>\n",
    "    </div>\n",
    "    <div  style=\"display: flex;background-color:#EEE\">\n",
    "        <p style=\"width:100%;text-align:center;\">Structures hiérarchiques: Les arbres</p>\n",
    "    </div>\n",
    "    <div  style=\"display: flex;\">\n",
    "        <p style=\"width:100%;text-align:center;\">Presentation</p>\n",
    "    </div>\n",
    "</div>"
   ]
  },
  {
   "cell_type": "markdown",
   "metadata": {},
   "source": [
    "<div class = \"alert alert-success\">\n",
    "    \n",
    "**Objectifs de la séquence:** \n",
    "- Définition (Noeuds, racines, feuilles, sous-arbres, taille, hauteur)\n",
    "- Identifier des situations nécessitant une structure de données arborescente. \n",
    "- Parcourir un arbre"
   ]
  },
  {
   "cell_type": "markdown",
   "metadata": {},
   "source": [
    "<div class = \"alert alert-info\">\n",
    "    \n",
    "**Sommaire :**\n",
    "\n",
    "<a href=#definitions>Définitions</a>   \n",
    "<a href=#parcours>Parcours</a>  \n",
    "<a href=#implementation>Implémentation avec un dictionnaire </a>  \n",
    "<a href=#exemples>Exemples d'utilisation </a>  \n",
    "<a href=#exercices>Exercices</a>  \n",
    "</div>"
   ]
  },
  {
   "cell_type": "markdown",
   "metadata": {},
   "source": [
    "![Grutt](https://github.com/ebuonocore/NSIT_09_Arbres/blob/main/sources/grutt_00.png?raw=true)  \n",
    "<span style=\"font-family:Comic Sans MS; color:gray; font-size: x-small;float:right \">Baby Grutt</span> \n",
    "\n",
    "<div id=\"definitions\"></div>\n",
    "\n",
    "## Définitions\n",
    "\n",
    "<div class = \"alert alert-success\">\n",
    "    Un graphe n'ayant <b>aucun cycle</b> s'appelle un <b>arbre</b> (définition due à Arthur Cayley en 1889).  \n",
    "Cette particularité, va nous permettre de définir des traitements spécifiques par rapport aux autres graphes.\n",
    "</div> \n",
    "\n",
    "L'arbre suivant présente les descendants de Charlemagne sur 2 générations.  \n",
    "<i>Arbre_Charlemagne</i>:\n",
    "\n",
    "![Arbre_Généalogique_Charlemagne](https://github.com/ebuonocore/NSIT_09_Arbres/blob/main/sources/genealogie_Charlemagne_02.png?raw=true)  \n",
    "<span style=\"font-family:Comic Sans MS; color:gray; font-size: x-small;float:right \">Extrait de l'arbre généalogique de Charlemagne <a href =\"https://fr.wikipedia.org/wiki/G%C3%A9n%C3%A9alogie_des_Carolingiens\">Wikipedia(Généalogie_des_Carolingiens)</a></span>   "
   ]
  },
  {
   "cell_type": "markdown",
   "metadata": {},
   "source": [
    "Voici une représentation de l'arbre précédent sous la forme d'un arbre orienté (au format DOT) affiché par viz.js :\n",
    "\n",
    "![Arbre_Généalogique_Charlemagne_DOT](https://github.com/ebuonocore/NSIT_09_Arbres/blob/main/sources/genealogie_Charlemagne_viz_js2.png?raw=true)<span style=\"font-family:Comic Sans MS; color:gray; font-size: x-small;float:right \">Code DOT <a href =\"https://github.com/ebuonocore/NSIT_09_Arbres/blob/main/sources/arbre_Charlemagne_DOT\">de cet arbre</a>. A visualiser sur http://viz-js.com/</span> "
   ]
  },
  {
   "cell_type": "markdown",
   "metadata": {},
   "source": [
    "● Un arbre est une structure **hiérarchique** composée de **noeuds**.  \n",
    "● Les noeuds peuvent avoir des **fils** (ou noeuds enfants) situés au niveau inférieur:   \n",
    "Par exemple, ici, Pépin le Bossu <span style=\"color:red\">(D)</span> et Louis le Pieux <span style=\"color:red\">(E)</span> sont des enfants de Charlemagne <span style=\"color:red\">(A)</span>.  \n",
    "● Le noeud situé au niveau supérieur est appelé le noeud **père** (ou noeud parent):  \n",
    "Louis le Pieux <span style=\"color:red\">(E)</span> et le noeud parent de Pépin 1er <span style=\"color:red\">(J)</span>.  \n",
    "● Le noeud qui n'a pas de père, généralement placé tout en haut, est la **racine** de l'arbre:  \n",
    "Ci-dessus, Charlemagne <span style=\"color:red\">(A)</span> est la racine de l'arbre.\n",
    "\n",
    "<i>Arbre_exemple1</i>:\n",
    "\n",
    "![Illustration_racine_noeud_feuille](https://github.com/ebuonocore/NSIT_09_Arbres/blob/main/sources/arbres_racine_noeud_feuille.png?raw=true)<span style=\"font-family:Comic Sans MS; color:gray; font-size: x-small;float:right \">Code DOT <a href =\"https://github.com/ebuonocore/NSIT_09_Arbres/blob/main/sources/Arbre_vis_js_01.txt\">de cet arbre</a>. A visualiser sur http://viz-js.com/</span>  \n",
    "\n"
   ]
  },
  {
   "cell_type": "markdown",
   "metadata": {},
   "source": [
    "Sur l'arbre ci-dessus:  \n",
    "● <span style=\"color:red\">A</span> est donc la **racine**  \n",
    "● Les sommets <span style=\"color:green\">E</span>, <span style=\"color:green\">F</span>, <span style=\"color:green\">I</span>, <span style=\"color:green\">G</span> et <span style=\"color:green\">J</span> qui n'ont pas d'enfants s'appellent les **feuilles** de l'arbre.  \n",
    "● <span style=\"color:blue\">B</span>, <span style=\"color:blue\">D</span>, <span style=\"color:blue\">C</span> et <span style=\"color:blue\">H</span>  qui ne sont ni des feuilles, ni la racine, sont des **noeuds internes**.  \n",
    "● La **taille** de l'arbre correspond au nombre de noeuds (racine + noeuds internes + feuilles).  \n",
    "● On appelle **profondeur** d'un nœud le nombre d'arêtes qu'il faut parcourir depuis la racine pour atteindre ce nœud: Par exemple, <span style=\"color:green\">E</span> a  une profondeur de 2, <span style=\"color:blue\">B</span> a une profondeur de 1 et <span style=\"color:red\">A</span>  qui est la racine est à une distance de 0 de lui-même, sa profondeur est donc de 0.  \n",
    "● La **hauteur** de l'arbre correspond à la profondeur de la feuille la plus éloignée de la racine.\n",
    "\n",
    "<div class = \"alert alert-danger\">\n",
    "    <b>Attention:</b> Selon les sources la notion de hauteur peut être définie différemment:<br>La hauteur peut être définie comme étant le nombre de sommets de la plus grande branche. Ce qui créé un décalage de 1 avec la définition que nous avons retenu pour ce cours."
   ]
  },
  {
   "cell_type": "markdown",
   "metadata": {},
   "source": [
    "● L'**arité** correspond au nombre maximum d'enfants qu'un noeud peut avoir.  \n",
    "● Il n'existe qu'un chemin possible entre deux noeuds: Comme dans les labyrinthes parfaits.  \n",
    "En effet, un labyrinthe parfait se représente sous la forme d'un graphe sans cycle... donc une arbre.  \n",
    "● Une **branche** est une suite finie de sommets consécutifs de la racine vers une feuille. Comme la branche ABE de l'Arbre_exemple1.\n",
    "Il y a donc autant de branches que de feuilles.  \n",
    "● L'ensemble des sommets B, E, F, D et I représentent un **sous-arbre** de l'Arbre_exemple1.  \n",
    "De même pour l'ensemble des sommets C, G, H et J.\n",
    "\n",
    "**A vous de jouer:**  \n",
    "Pour les arbres <i>Arbre_Charlemagne</i> et <i>l'Arbre_exemple1</i>, complétez les informations ci-dessous:"
   ]
  },
  {
   "cell_type": "markdown",
   "metadata": {},
   "source": [
    "<i><u>Arbre_Charlemagne</u></i>: On ne tient compte que de l'extrait donné ici. Pas de la totalité de la généalogie de Charlemagne!  \n",
    "Racine:      \n",
    "Nombre de feuilles :   \n",
    "Taille de l'arbre:   \n",
    "Hauteur de l'arbre:   \n",
    "Nom du noeud qui a le plus de noeuds enfants:   \n",
    "Arité de l'arbre:   \n",
    "    \n",
    "<i><u>Arbre_exemple1</u></i>:\n",
    "Racine:   \n",
    "Nombre de feuilles :   \n",
    "Taille de l'arbre:   \n",
    "Hauteur de l'arbre:   \n",
    "Nom du noeud qui a le plus de noeuds enfants:    \n",
    "Arité de l'arbre:    \n",
    "\n",
    "&#x2705; <a href=\"https://github.com/ebuonocore/NSIT_09_Arbres/blob/main/sources/reponses1\">Correction</a></div>"
   ]
  },
  {
   "cell_type": "markdown",
   "metadata": {},
   "source": [
    "<div id=\"parcours\"></div>\n",
    "\n",
    "## Parcours\n",
    "\n",
    "Comme pour les graphes, nous retrouvons les parcours en **profondeur** (DFS) et en **largeur** (BFS).  \n",
    "Dans les animations ci-dessous, les noeuds sont numérotés en fonction de leur ordre de découverte.  \n",
    "Nous voyons bien que le parcours en profondeur explore successivement les branches, alors le parcours en largeur se fait comme la lecture d'un texte, de gauche à droite et de haut en bas.  \n",
    "![Parcours_DFS_BFS](https://github.com/ebuonocore/Arbres/blob/main/sources/arbres_parcours_dfsbfs.gif?raw=true)  \n",
    "<span style=\"font-family:Comic Sans MS; color:gray; font-size: x-small;float:right \">Parcours en profondeur et en largeur en animation <a href =\"https://medium.com/@kenny.hom27/breadth-first-vs-depth-first-tree-traversal-in-javascript-48df2ebfc6d1\">medium.com</a></span> \n"
   ]
  },
  {
   "cell_type": "markdown",
   "metadata": {},
   "source": [
    "<div id=\"implementation\"></div>\n",
    "\n",
    "## Implémentation avec un dictionnaire\n",
    "<i>Arbre_exemple2</i>:\n",
    "\n",
    "![Arbre_exemple2:](https://github.com/ebuonocore/NSIT_09_Arbres/blob/main/sources/arbre_exemple2.png?raw=true)\n",
    "\n",
    "● Cet arbre peut être décrit par une liste d'adjacence. \n",
    "\n",
    "![Liste_voisins](https://github.com/ebuonocore/NSIT_09_Arbres/blob/main/sources/liste_successeurs.png?raw=true)\n",
    "\n",
    "\n",
    "● Cette liste des successeurs peut être implémentée par un **dictionnaire**.  \n",
    "● Dans ce dictionnaire, une clé est un noeud parent, les valeurs désignent ses noeuds enfants.  "
   ]
  },
  {
   "cell_type": "code",
   "execution_count": null,
   "metadata": {},
   "outputs": [],
   "source": [
    "{   'A': ['B','C','D'],\n",
    "    'B': [],\n",
    "    'C': [],\n",
    "    'D': ['E','F'],\n",
    "    'E': ['G','H', 'K', 'L'],\n",
    "    'F': ['I','J'],\n",
    "    'G': [],\n",
    "    'H': [],\n",
    "    'I': [],\n",
    "    'J': [],\n",
    "    'K': [],\n",
    "    'L': []}"
   ]
  },
  {
   "cell_type": "markdown",
   "metadata": {},
   "source": [
    "● La **racine** n'apparait jamais parmi les valeurs du dictionnaire: Il n'est le fils de personne.  \n",
    "● Un sommet dont la valeur dans le dictionnaire est une <u>liste vide</u> est une **feuille** de l'arbre.  \n",
    "● Un noeud ne peut apparaitre qu'une seule fois en tant que fils dans le dictionnaire. (Sinon, il y aurait un cycle, et ce ne serait plus un arbre!) "
   ]
  },
  {
   "cell_type": "markdown",
   "metadata": {},
   "source": [
    "<div id=\"exemples\"></div>\n",
    "\n",
    "## Exemples d'utilisation\n",
    "\n",
    "● Nous l'avons vu précedemment les **labyrinthes parfaits** peuvent être modélisés par des arbres.  \n",
    "Le labyrinthe parfait vérifie qu'il n'y a pas de cycle: chaque cellule est reliée à toutes les autres, et ce, de manière unique.\n",
    "![Labyrinthe_parfait](https://github.com/ebuonocore/NSIT_09_Arbres/blob/main/sources/DAG_labyrinthe_parfait.png?raw=true)<span style=\"font-family:Comic Sans MS; color:gray; font-size: x-small;float:right \"> <a href =\"https://fr.wikipedia.org/wiki/Mod%C3%A9lisation_math%C3%A9matique_de_labyrinthe\">Modélisation mathématique de labyrinthe</a></span>   "
   ]
  },
  {
   "cell_type": "markdown",
   "metadata": {},
   "source": [
    "● Les arbres sont aussi utilisés pour les  **arbres généalogiques**  \n",
    "● On les retrouve aussi dans l'organisation du contenu du navigateur web avec le **Document Object Model** vu en première. \n",
    "![DOM_model](https://github.com/ebuonocore/NSIT_09_Arbres/blob/main/sources/DOM-model.png?raw=true)<span style=\"font-family:Comic Sans MS; color:gray; font-size: x-small;float:right \"> <a href =\"https://fr.wikipedia.org/wiki/Document_Object_Model\">Wikipedia (Document Object Model)</a></span>  \n",
    "● Les arborescences de processus  \n",
    "● les arbres **phylogénétiques**  \n",
    "![Arbres_phylogénétiques](https://github.com/ebuonocore/NSIT_09_Arbres/blob/main/sources/arbre-phylo-vivant.jpg?raw=true)<span style=\"font-family:Comic Sans MS; color:gray; font-size: x-small;float:right \">Arbre phylogénétique simplifié <a href =\"https://www.futura-sciences.com/planete/definitions/classification-vivant-phylogenie-4372/\">futura-sciences(Phylogénie)</a></span>  \n",
    "● Les arborescences de fichiers  \n",
    "![Arborescence_fichiers](https://github.com/ebuonocore/NSIT_09_Arbres/blob/main/sources/Arborescence_Site.png?raw=true)<span style=\"font-family:Comic Sans MS; color:gray; font-size: x-small;float:right \">Arborescence de fichiers <a href =\"http://math.univ-lyon1.fr/irem/Formation_ISN/formation_html_css/exo_liens/liens_accueil.html\">IREM de Lyon(JS)</a></span> "
   ]
  },
  {
   "cell_type": "markdown",
   "metadata": {},
   "source": [
    "<div id=\"exercices\"></div>\n",
    "\n",
    "## Exercices\n",
    "\n",
    "Ci dessous, complétez l'arborescence de fichiers vu juste au dessus et affichez la sur http://viz-js.com/ (Il ne manque pas grand chose)  \n",
    "En bas de ce code, répondez aux questions en commentaires"
   ]
  },
  {
   "cell_type": "code",
   "execution_count": null,
   "metadata": {},
   "outputs": [],
   "source": [
    "  DiGraph G {\n",
    "    node [color=\"#000000\", fontname=\"Ubuntu\"];\n",
    "    \"Mon_Site\" [fillcolor=\"#ff0000\", style=\"filled\"];\n",
    "    \"Autres_Pages\" [fillcolor=\"#0000DD\",  style=\"filled\"];\n",
    "    \"Doc_Divers\" [fillcolor=\"#0000DD\",  style=\"filled\"];\n",
    "    \"Images_du_Site\" [fillcolor=\"#0000DD\",  style=\"filled\"];\n",
    "    \"Style_CSS\" [fillcolor=\"#0000DD\",  style=\"filled\"];\n",
    "    \"accueil.html\" [fillcolor=\"#00CC00\",  style=\"filled\"];\n",
    "    \"page_1.html\" [fillcolor=\"#00CC00\",  style=\"filled\"];\n",
    "    \"page_2.html\" [fillcolor=\"#00CC00\",  style=\"filled\"];\n",
    "    \"page_3.html\" [fillcolor=\"#00CC00\",  style=\"filled\"];\n",
    "    \"Notice.pdf\" [fillcolor=\"#00CC00\",  style=\"filled\"];\n",
    "    \"image_01.jpg\" [fillcolor=\"#00CC00\",  style=\"filled\"];\n",
    "    \"image_02.jpg\" [fillcolor=\"#00CC00\",  style=\"filled\"];\n",
    "    \"image_03.jpg\" [fillcolor=\"#00CC00\",  style=\"filled\"];\n",
    "    \"image_04.jpg\" [fillcolor=\"#00CC00\",  style=\"filled\"];\n",
    "    \"Mon_Site\" -> \"Autres_Pages\" -> \"page_1.html\" \n",
    "    \"Autres_Pages\" -> \"page_2.html\" \n",
    "    \"Autres_Pages\" -> \"page_3.html\" \n",
    "    \"Mon_Site\" -> \"Doc_Divers\" -> \"Notice.pdf\" \n",
    "    \"Mon_Site\" -> \"Images_du_Site\" -> \"image_01.jpg\"  \n",
    "    \"Images_du_Site\" -> \"image_02.jpg\"  \n",
    "    \"Images_du_Site\" -> \"image_03.jpg\"  \n",
    "    \"Images_du_Site\" -> \"image_04.jpg\"  \n",
    "    \"Mon_Site\" -> \"Style_CSS\" \n",
    "    \"Mon_Site\" -> \"accueil.html\" \n",
    "    } \n",
    "    \n",
    "# De quel type de parcours s'inspire l'énumération et la création des noeuds:\n",
    "# De quel type de parcours s'inspire l'énumération et la création des arêtes:\n",
    "# De quel nature (racine, noeud interne, feuille) sont les dossiers:\n",
    "# De quel nature (racine, noeud interne, feuille) sont les fichiers:"
   ]
  },
  {
   "cell_type": "markdown",
   "metadata": {},
   "source": [
    "&#x2705; <a href=\"https://github.com/ebuonocore/NSIT_09_Arbres/blob/main/sources/reponses2_fichiers_DOT_et_questions\">Correction</a></div>"
   ]
  },
  {
   "cell_type": "markdown",
   "metadata": {},
   "source": [
    "Sur le même modèle, toujours sur http://viz-js.com, créez l'arbre généalogique d'un de vos grands-parents (vous devriez être une feuille de cet arbre) ou d'une famille célèbre sur 2 générations d'enfants (comme pour l'arbre de Charlemagne vu au début).  \n",
    "Copiez le code DOT ainsi généré dans la cellule ci-dessous:\n",
    "En commentaire, répondez à la question suivante: Cette représentation d'un arbre généalogique n'est pas très satisfaisante. Que faudrait-il y ajouter?"
   ]
  },
  {
   "cell_type": "code",
   "execution_count": null,
   "metadata": {},
   "outputs": [],
   "source": []
  },
  {
   "cell_type": "markdown",
   "metadata": {},
   "source": [
    "---\n",
    "<p style=\"font-family:Comic Sans MS; text-align: center; color:gray; font-size: x-small; \">- Eric Buonocore. Novembre 2020 -<br></p>\n",
    "\n",
    "![Licence CC BY NC SA](https://licensebuttons.net/l/by-nc-sa/3.0/88x31.png)"
   ]
  }
 ],
 "metadata": {
  "kernelspec": {
   "display_name": "Python 3",
   "language": "python",
   "name": "python3"
  },
  "language_info": {
   "codemirror_mode": {
    "name": "ipython",
    "version": 3
   },
   "file_extension": ".py",
   "mimetype": "text/x-python",
   "name": "python",
   "nbconvert_exporter": "python",
   "pygments_lexer": "ipython3",
   "version": "3.7.6"
  }
 },
 "nbformat": 4,
 "nbformat_minor": 4
}
