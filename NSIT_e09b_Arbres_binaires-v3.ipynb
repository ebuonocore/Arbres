{
 "cells": [
  {
   "cell_type": "markdown",
   "metadata": {},
   "source": [
    "<div style=\"width:100%;border-collapse:separate;border:solid 2px;border-radius:14px;\">\n",
    "    <div style=\"display:flex;\">\n",
    "        <div style=\"display:inline;width:5%;\"></div>\n",
    "        <div style=\"display:inline;width:15%;\">NSIT</div>\n",
    "        <div style=\"display:inline;width:15%;\">e09b</div>\n",
    "        <div style=\"display:inline;width:70%;text-align:right;\"><b>Structures de données</b></div>\n",
    "        <div style=\"display:inline;width:5%;\"></div>\n",
    "    </div>\n",
    "    <div  style=\"display: flex;background-color:#EEE\">\n",
    "        <p style=\"width:100%;text-align:center;\">Structures hiérarchiques: Arbres binaires</p>\n",
    "    </div>\n",
    "    <div  style=\"display: flex;\">\n",
    "        <p style=\"width:100%;text-align:center;\">Définitions et parcours</p>\n",
    "    </div>\n",
    "</div>"
   ]
  },
  {
   "cell_type": "markdown",
   "metadata": {},
   "source": [
    "<div class = \"alert alert-success\">\n",
    "    \n",
    "**Objectifs de la séquence:** \n",
    "- Définition (sous-arbres gauches, sous-arbres droits, structure de données récursive)\n",
    "- Calculer la taille et la hauteur d’un arbre. \n",
    "- Parcourir un arbre de différentes façons (ordres infixe, préfixe ou suffixe ; ordre en largeur d’abord)."
   ]
  },
  {
   "cell_type": "markdown",
   "metadata": {},
   "source": [
    "<div class = \"alert alert-info\">\n",
    "    \n",
    "**Sommaire :**\n",
    "\n",
    "<a href=#definitions>Définitions</a>   \n",
    "<a href=#dictionnaire>Implémentation avec un dictionnaire </a>  \n",
    "<a href=#liste_recursive>Implémentation avec une liste récursive</a>  \n",
    "<a href=#POO>La classe Arbre</a>  \n",
    "<a href=#Morse>Hauteur et taille d'un arbre binaire (Application au code Morse) </a>  \n",
    "<a href=#POO_suite>Méthodes de la classe Arbre</a>  \n",
    "<a href=#parcours>Parcours</a>  \n",
    "</div>"
   ]
  },
  {
   "cell_type": "markdown",
   "metadata": {},
   "source": [
    "![Chemin_bianire](https://github.com/ebuonocore/NSIT_09_Arbres/blob/main/sources/chemin_bianire_01.png?raw=true)<span style=\"font-family:Comic Sans MS; color:gray; font-size: x-small;float:right \">Le trésor est se trouve sous le poteau désigné par l'itinéraire 0 0 1. Lequel est-ce ?</span>\n",
    "\n",
    "\n",
    "<div id=\"definitions\"></div>\n",
    "\n",
    "## Définitions\n",
    "\n",
    "<div class = \"alert alert-success\">\n",
    "    Un arbre binaire est un arbre <b>d'arité 2</b><br>\n",
    "</div> \n",
    "\n",
    "Ce qui revent à dire que chaque noeud a un <b>dégré</b> maximum de 2, ou, que chaque noeuds a au plus 2 noeuds enfants.\n"
   ]
  },
  {
   "cell_type": "markdown",
   "metadata": {},
   "source": [
    "<u><i>Arbre_binaire_1:</i></u>\n",
    "![Un_arbre_binaire](https://github.com/ebuonocore/NSIT_09_Arbres/blob/main/sources_arbre_bin/arbre_bin_1_simple.png?raw=true)\n",
    "\n",
    "Dans un arbre binaire **complet**, tous les noeuds n'ont que 0 ou 2 enfants. (Jamais 1).  \n",
    "<u><i>Arbre_binaire_2:</i></u>\n",
    "![Un_arbre_binaire_complet](https://github.com/ebuonocore/NSIT_09_Arbres/blob/main/sources_arbre_bin/arbre_bin_2_simple.png?raw=true)\n",
    "\n",
    "<div id=\"dictionnaire\"></div>\n",
    "\n",
    "## Implémentation avec un dictionnaire\n",
    "\n",
    "Comme nous l'avons vu précédemment pour les graphes et les autre arbres, les arbres binaires peuvent aussi être décrits par une **matrice** ou une **liste d'adjacence** et implémentés avec le dictionnaire associé à cette matrice ou à cette liste.  \n",
    "\n",
    "Ici, nous allons coder l'arbre binaire avec un dictionnaire dont les clés sont les différents noeuds et les valeurs, la liste des noeuds enfants. (Ce qui correspond à une liste des successeurs dans un arbre orienté.)"
   ]
  },
  {
   "cell_type": "code",
   "execution_count": null,
   "metadata": {},
   "outputs": [],
   "source": [
    "# Codage de l'arbre binaire 1\n",
    "{   'A': ['B','C'],\n",
    "    'B': ['D','E'],\n",
    "    'C': ['F','G'],\n",
    "    'D': [],\n",
    "    'E': [],\n",
    "    'F': ['H'],\n",
    "    'G': [],\n",
    "    'H': ['I'],\n",
    "    'I': [] }"
   ]
  },
  {
   "cell_type": "markdown",
   "metadata": {},
   "source": [
    "Avec cette approche, on reconnait facilement les feuilles.  \n",
    "Le noeuds D par exemple est associé à la liste vide: il n'a pas d'enfant.\n",
    "\n",
    "**A vous de jouer:**\n",
    "Proposez le codage du dictionnaire décrivant l'arbre_binaire_2."
   ]
  },
  {
   "cell_type": "code",
   "execution_count": null,
   "metadata": {},
   "outputs": [],
   "source": [
    "# Codage de l'arbre binaire 2\n",
    "{   'A': [],\n",
    "    'B': [],\n",
    "    'C': [],\n",
    "    'D': [],\n",
    "    'E': [],\n",
    "    'F': [],\n",
    "    'G': [],\n",
    "    'H': [],\n",
    "    'I': [],\n",
    "    'J': [],\n",
    "    'K': [] }"
   ]
  },
  {
   "cell_type": "markdown",
   "metadata": {},
   "source": [
    "&#x2705; <a href=\"https://github.com/ebuonocore/NSIT_09_Arbres/blob/main/sources_arbre_bin/reponse1\">Correction</a></div>\n",
    "\n",
    "<div id=\"liste_recursive\"></div>\n",
    "\n",
    "## Implémentation avec une liste récursive\n",
    "\n",
    "On peut aussi remarquer qu'un arbre est une racine à laquelle on a greffé deux sous-arbres.  \n",
    "\n",
    "<u><i>Arbre_binaire_1:</i></u>\n",
    "![sous_arbres_niv1](https://github.com/ebuonocore/NSIT_09_Arbres/blob/main/sources_arbre_bin/arbre_bin_1_simple_sous_arbres_01.png?raw=true)\n",
    "\n",
    "Le noeud B devient alors la racine d'un des sous-arbre. De même pour C.   \n",
    "![sous_arbres_niv2](https://github.com/ebuonocore/NSIT_09_Arbres/blob/main/sources_arbre_bin/arbre_bin_1_simple_sous_arbres_02.png?raw=true)\n",
    "\n",
    "Afin de pouvoir généraliser cette approche, nous allons compléter notre arbre avec des **noeuds vides** afin de le ramener à un arbre binaire complet.  \n",
    "Les noeuds vides sont désignés par **None** (représentés par des petits ronds gris ci-dessous):\n",
    "- Les noeuds qui  n'ont qu'un seul enfant (comme F ou H), sont complétés par un enfant **None**.\n",
    "- Les feuilles aussi (comme D et G), pour être considérées comme des sous-arbres doivent disposer de 2 enfants: on leur ajoute aussi deux noeuds enfants **None**.\n",
    "\n",
    "![arbre_binaire_1_complété](https://github.com/ebuonocore/NSIT_09_Arbres/blob/main/sources_arbre_bin/arbre_bin_1_complet.png?raw=true)\n",
    "Cela nous permet d'obtenir une nouvelle représentation de l'arbre.  \n",
    "Chaque arbre, ou sous-arbre est repésenté par une liste contenant: "
   ]
  },
  {
   "cell_type": "code",
   "execution_count": null,
   "metadata": {},
   "outputs": [],
   "source": [
    "[ nom_de_la_racine, sous_arbre_gauche, sous_arbre_droit]"
   ]
  },
  {
   "cell_type": "markdown",
   "metadata": {},
   "source": [
    "Ainsi, notre arbre_binaire_1 peut être codé par la liste arbreA:"
   ]
  },
  {
   "cell_type": "code",
   "execution_count": null,
   "metadata": {},
   "outputs": [],
   "source": [
    "arbreI = ['I', None, None]\n",
    "arbreH = ['H', None, arbreI]\n",
    "arbreF = ['F', arbreH, None]\n",
    "arbreG = ['G', None, None]\n",
    "arbreC = ['C', arbreF, arbreG]\n",
    "arbreD = ['D', None, None]\n",
    "arbreE = ['E', None, None]\n",
    "arbreB = ['B', arbreD, arbreE]\n",
    "arbreA = ['A', arbreB, arbreC]\n",
    "\n",
    "# Ou alors, en une ligne, sans construction intermédiaire:\n",
    "\n",
    "arbreA = ['A',['B', ['D', None, None], ['E', None, None]], \n",
    "          ['C', ['F', ['H', None, ['I', None, None]], None], ['G', None, None]]]"
   ]
  },
  {
   "cell_type": "markdown",
   "metadata": {},
   "source": [
    "Voila à quoi ressemble la représentation mémoire de cette écriture vue par <a href=\"http://pythontutor.com/visualize.html#code=arbreA%20%3D%20%5B'A',%5B'B',%20%5B'D',%20None,%20None%5D,%20%5B'E',%20None,%20None%5D%5D,%20%0A%20%20%20%20%20%20%20%20%20%20%5B'C',%20%5B'F',%20%5B'H',%20None,%20%5B'I',%20None,%20None%5D%5D,%20None%5D,%20%5B'G',%20None,%20None%5D%5D%5D&cumulative=false&curInstr=2&heapPrimitives=nevernest&mode=display&origin=opt-frontend.js&py=3&rawInputLstJSON=%5B%5D&textReferences=false\">Pythontuor</a>:\n",
    "![representation_Python_tutor](https://github.com/ebuonocore/NSIT_09_Arbres/blob/main/sources_arbre_bin/arbre_bin_1_complet_pythontutor.png?raw=true)"
   ]
  },
  {
   "cell_type": "markdown",
   "metadata": {},
   "source": [
    "**A vous de jouer:** Ecrivez la liste récursive décrivant l'arbre_binaire_2. Copiez-la sur <a href=\"http://pythontutor.com/visualize.html#mode=edit\">Pyhtontutor</a> pour la tester."
   ]
  },
  {
   "cell_type": "code",
   "execution_count": null,
   "metadata": {},
   "outputs": [],
   "source": []
  },
  {
   "cell_type": "markdown",
   "metadata": {},
   "source": [
    "<div id=\"POO\"></div>\n",
    "\n",
    "## POO: Implémentation avec la classe Arbre\n",
    "\n",
    "Il existe encore d'autres façons de modéliser des arbres binaires, mais nous allons maintenant nous intéresser plus précisément à une implémentation orientée objet.  \n",
    "Nous souhaitons que les arbres binaires soient des instances d'une classe nommée Arbre. \n",
    "\n",
    "Voilà à quoi ressemble l'interface de cette première version:\n",
    "\n",
    "<table style=\"width:200px;\">\n",
    "    <tr>\n",
    "        <td style=\"width:200px;background-color:#CCD;text-align:left\">\n",
    "            <big>\n",
    "            <b>Arbre</b>\n",
    "            </big>\n",
    "        </td>\n",
    "    </tr> \n",
    "    <tr>\n",
    "        <td style=\"width:200px;background-color:#EEF;text-align:left\">\n",
    "            <big>\n",
    "            <i><u>Attributs :</u></i><br>\n",
    "            label ('' par défaut)<br>\n",
    "            G (None à l'initialisation)<br>\n",
    "            D (None à l'initialisation)<br>\n",
    "            </big>\n",
    "        </td>\n",
    "    </tr> \n",
    "    <tr>\n",
    "        <td style=\"width:200px;background-color:#CCD;text-align:left\">\n",
    "            <big>\n",
    "            <i><u>Méthodes:</u></i><br>\n",
    "                <i><small>- rien pour l'instant -</small></i><br>\n",
    "            </big>\n",
    "        </td>\n",
    "    </tr> \n",
    "</table>\n"
   ]
  },
  {
   "cell_type": "markdown",
   "metadata": {},
   "source": [
    "Soit un arbre binaire A.  \n",
    "<code>A.label</code> désigne le nom de la racine.  \n",
    "<code>A.G</code> désigne son sous-arbre gauche.  \n",
    "<code>A.D</code> désigne son sous-arbre droit.  \n",
    "Voici l'implémentation de cette classe:"
   ]
  },
  {
   "cell_type": "code",
   "execution_count": 7,
   "metadata": {},
   "outputs": [],
   "source": [
    "class Arbre():\n",
    "    def __init__(self,nom=''):\n",
    "        self.label = nom\n",
    "        self.G = None\n",
    "        self.D = None"
   ]
  },
  {
   "cell_type": "markdown",
   "metadata": {},
   "source": [
    "Les lignes suivantes présentent la succession de codes pour créer l'arbre_bininaire_1:"
   ]
  },
  {
   "cell_type": "code",
   "execution_count": 8,
   "metadata": {},
   "outputs": [],
   "source": [
    "A = Arbre('A') # Instanciation de l'arbre A, sans enfant.\n",
    "A.G = Arbre('B') # Instanciation de l'arbe B et affectation en tant que sous-arbre gauche de A\n",
    "A.D = Arbre('C') # Instanciation de l'arbe C et affectation en tant que sous-arbre droit de A\n",
    "A.G.G = Arbre('D') # A.G.G désigne B.G\n",
    "A.G.D = Arbre('E') # A.G.D désigne B.D"
   ]
  },
  {
   "cell_type": "markdown",
   "metadata": {},
   "source": [
    "Voila à quoi ressemble notre arbre pour l'instant.  Mais ce n'est pas fini, il manque encore des sous-arbres à greffer sur C:\n",
    "![arbre_binaire_A_en_construction](https://github.com/ebuonocore/NSIT_09_Arbres/blob/main/sources_arbre_bin/arbre_bin_1_en_construction.png?raw=true)"
   ]
  },
  {
   "cell_type": "code",
   "execution_count": 9,
   "metadata": {},
   "outputs": [],
   "source": [
    "A.D.G = Arbre('F') # A.D désigne C. F devient son sous-arbre gauche\n",
    "A.D.D = Arbre('G')\n",
    "A.D.G.G = Arbre('H') # A.D.G désigne F\n",
    "A.D.G.G.D = Arbre('I') # A.D.G.G  désigne H"
   ]
  },
  {
   "cell_type": "markdown",
   "metadata": {},
   "source": [
    "Finalement, nous avons reconstruit notre arbre:\n",
    "![arbre_bianire_1_reconstruit](https://github.com/ebuonocore/NSIT_09_Arbres/blob/main/sources_arbre_bin/arbre_bin_1_complet_reconstruit.png?raw=true)"
   ]
  },
  {
   "cell_type": "markdown",
   "metadata": {},
   "source": [
    "L'intégralité de ce code (Classe plus instanciations) dans <a href = \"http://pythontutor.com/visualize.html#code=class%20Arbre%28%29%3A%0A%20%20%20%20def%20__init__%28self,nom%3D''%29%3A%0A%20%20%20%20%20%20%20%20self.label%20%3D%20nom%0A%20%20%20%20%20%20%20%20self.G%20%3D%20None%0A%20%20%20%20%20%20%20%20self.D%20%3D%20None%0A%0AA%20%3D%20Arbre%28'A'%29%20%23%20Instanciation%20de%20l'arbre%20A,%20sans%20enfant.%0AA.G%20%3D%20Arbre%28'B'%29%20%23%20Instanciation%20de%20l'arbe%20B%20et%20affectation%20en%20tant%20que%20sous-arbre%20gauche%20de%20A%0AA.D%20%3D%20Arbre%28'C'%29%20%23%20Instanciation%20de%20l'arbe%20C%20et%20affectation%20en%20tant%20que%20sous-arbre%20droit%20de%20A%0AA.G.G%20%3D%20Arbre%28'D'%29%20%23%20A.G.G%20d%C3%A9signe%20B.G%0AA.G.D%20%3D%20Arbre%28'E'%29%20%23%20A.G.D%20d%C3%A9signe%20B.D%0AA.D.G%20%3D%20Arbre%28'F'%29%20%23%20A.D%20d%C3%A9signe%20C.%20F%20devient%20son%20sous-arbre%20gauche%0AA.D.D%20%3D%20Arbre%28'G'%29%0AA.D.G.G%20%3D%20Arbre%28'H'%29%20%23%20A.D.G%20d%C3%A9signe%20F%0AA.D.G.G.D%20%3D%20Arbre%28'I'%29%20%23%20A.D.G.G%20%20d%C3%A9signe%20H&cumulative=false&curInstr=55&heapPrimitives=nevernest&mode=display&origin=opt-frontend.js&py=3&rawInputLstJSON=%5B%5D&textReferences=false\">Pythontutor</a> permet d'observer une représentation mémoire de l'arbre.\n",
    "\n",
    "Une expression mathématique peut être représentée par un arbre bianire:\n",
    "![expression_mathematique](https://github.com/ebuonocore/NSIT_09_Arbres/blob/main/sources_arbre_bin/arbre_bin_expr_math.png?raw=true)\n",
    "\n",
    "**A vous de jouer:** Implémentez (complétez) l'arbre nommé M correspondant à l'équation ci-dessus.  \n",
    "Puis, répondez aux questions posées en commentaires."
   ]
  },
  {
   "cell_type": "code",
   "execution_count": null,
   "metadata": {},
   "outputs": [],
   "source": [
    "M = Arbre('+')\n",
    "M.G = Arbre('-')\n",
    "M.D = Arbre('1')\n",
    "\n",
    "# Quelle est la nature des noeuds représentants des valeurs numériques? ...\n",
    "# Quelle est la nature des noeuds repésentants des opérateurs ? ...\n",
    "# Quelle expression mathématique code cet arbre? M = ...\n",
    "# Cet arbre binaire est-il complet ? ...\n",
    "# Donnez sa taille: ...\n",
    "# Donnez sa hauteur: ..."
   ]
  },
  {
   "cell_type": "markdown",
   "metadata": {},
   "source": [
    "&#x2705; <a href=\"https://github.com/ebuonocore/NSIT_09_Arbres/blob/main/sources_arbre_bin/reponse3\">Correction</a></div>\n"
   ]
  },
  {
   "cell_type": "markdown",
   "metadata": {},
   "source": [
    "<div id=\"Morse\"></div>\n",
    "\n",
    "## Hauteur et taille d'un arbre binaire (Application au code Morse)\n",
    "![code_Morse](https://github.com/ebuonocore/NSIT_09_Arbres/blob/main/sources_arbre_bin/arbre_bin_morse2.png?raw=true)"
   ]
  },
  {
   "cell_type": "markdown",
   "metadata": {},
   "source": [
    "Le code Morse peut être représenté par un arbre bianire.  \n",
    "Remarque, les cases blanches ne correspondent pas à un noeud vide, mais à l'absence d'étiquette. Ces cases peuvent avoir des enfants.  \n",
    "Si on désigne par un **0** l'utilisation d'un **point** (Dot) et par un **1** l'utilisation d'un **trait** (Dash), on peut reprérer chaque caractère par un mot binaire:  \n",
    "Ainsi le mot binaire **01** désigne en morse la succession d'un point et d'un trait **.-**, soit la lettre **'A'**  \n",
    "La lettre **'B'** correspond au code Morse **-...** ou au mot binaire **1000**\n",
    "\n",
    "![codes_Morse_A_B](https://github.com/ebuonocore/NSIT_09_Arbres/blob/main/sources_arbre_bin/arbre_bin_morseAB.png?raw=true)\n",
    "\n",
    "<u>Remarque:</u> Le nombre de bits est important. On fait une distinction entre les codes 0, 00 ou 000 qui ne désignent pas les même lettres, même si ces trois nombres correspondent à la valeur décimale 0.\n",
    "\n",
    "**A vous de jouer:** Complétez le texte ci-dessous"
   ]
  },
  {
   "cell_type": "markdown",
   "metadata": {},
   "source": [
    "A quels lettres correspondent les mots bianires 000 puis 111 puis 000 : ...  \n",
    "Donnez le code binaire correspondant à N, S et I: ...  \n",
    "Quelle est la hauteur de cet arbre? ...  \n",
    "Combien de bits sont nécessaires pour encoder une lettre ou un chiffre en code Morse? ....\n",
    "\n",
    "Le code bianire du 'A' est 01 : Ce qui correspond à 1 en valeur décimale  \n",
    "Son enfant gauche 'R' a pour code 010 : Ce qui correspond à 2 en valeur décimale  \n",
    "Son enfant droit 'W' a pour code 011 : Ce qui correspond à 3 en valeur décimale  \n",
    "\n",
    "Le code bianire du 'M' est 11 : Ce qui correspond à 3 en valeur décimale  \n",
    "Son enfant gauche 'G' a pour code ... : Ce qui correspond à ... en valeur décimale  \n",
    "Son enfant droit 'O' a pour code ... : Ce qui correspond à ... en valeur décimale  \n",
    "\n",
    "Soit un noeud dont le code binaire vaut la valeur n:  \n",
    "Comment calculer la valeur bianire de son fils gauche? ...  \n",
    "Comment calculer la valeur bianire de son fils droit? ...  \n",
    "\n",
    "Soit un arbre bianire complet de hauteur h, précisez la taille maximale de cet arbre en fonction de h:  \n",
    "h = 0 -> Taille_max(0) = 1  \n",
    "h = 1 -> Taille_max(1) = 3  \n",
    "h = 2 -> Taille_max(2) = 7  \n",
    "h = 3 -> Taille_max(3) = ...  \n",
    "h = 4 -> Taille_max(4) = ...  \n",
    "\n",
    "Proposez une formule générale permettant de calculer Taille_max(h) pour tout h:  \n",
    "Taille_max(h) = ..."
   ]
  },
  {
   "cell_type": "markdown",
   "metadata": {},
   "source": [
    "&#x2705; <a href=\"https://github.com/ebuonocore/NSIT_09_Arbres/blob/main/sources_arbre_bin/reponses4\">Correction</a></div>"
   ]
  },
  {
   "cell_type": "markdown",
   "metadata": {},
   "source": [
    "<div id=\"POO_suite\"></div>\n",
    "\n",
    "## Les méthodes de la classe Arbre\n",
    "\n",
    "Nous souhaitons maintenant enrichir notre classe avec des méthodes.  \n",
    "<table style=\"width:200px;\">\n",
    "    <tr>\n",
    "        <td style=\"width:200px;background-color:#CCD;text-align:left\">\n",
    "            <big>\n",
    "            <b>Arbre</b>\n",
    "            </big>\n",
    "        </td>\n",
    "    </tr> \n",
    "    <tr>\n",
    "        <td style=\"width:200px;background-color:#EEF;text-align:left\">\n",
    "            <big>\n",
    "            <i><u>Attributs :</u></i><br>\n",
    "            label ('' par défaut)<br>\n",
    "            G (None à l'initialisation)<br>\n",
    "            D (None à l'initialisation)<br>\n",
    "            </big>\n",
    "        </td>\n",
    "    </tr> \n",
    "    <tr>\n",
    "        <td style=\"width:200px;background-color:#CCD;text-align:left\">\n",
    "            <big>\n",
    "            <i><u>Méthodes:</u></i><br>\n",
    "                est_une_feuille()<br>\n",
    "                __repr__()<br>\n",
    "                hauteur()<br>\n",
    "                taille()<br>\n",
    "            </big>\n",
    "        </td>\n",
    "    </tr> \n",
    "</table>\n",
    "\n",
    "Complétez les méthodes hauteur() et taille()de la classe Arbre et testez-la sur les arbres A et M créés précédemment:"
   ]
  },
  {
   "cell_type": "code",
   "execution_count": 4,
   "metadata": {},
   "outputs": [
    {
     "name": "stdout",
     "output_type": "stream",
     "text": [
      "ABD..E..CFH.I...G..\n"
     ]
    }
   ],
   "source": [
    "class Arbre():\n",
    "    def __init__(self,nom=''):\n",
    "        self.label = nom\n",
    "        self.G = None\n",
    "        self.D = None\n",
    "    def est_une_feuille(self):\n",
    "        return not self.G and not self.D\n",
    "    def __repr__(self): # Permet d'afficher un arbre binaire. On l'invoque en écrivant print(T) mais elle s'appelle __repr__.\n",
    "        # En remplaçant les None par des points, on repère facilement les feuilles\n",
    "        return (self.label+str(self.G)+str(self.D)).replace('None','.')\n",
    "        #return (str(self.G)+str(self.D)+self.label).replace('None','.')\n",
    "        #return (str(self.G)+self.label+str(self.D)).replace('None','.')\n",
    "    def hauteur(self):\n",
    "        # La hauteur d'un noeud est égale au maximum de la hauteur de ses enfant plus 1\n",
    "        pass\n",
    "    def taille(self):\n",
    "        # La taille d'un arbre est égale à la somme des tailles de ses sous-arbres plus 1\n",
    "        pass \n",
    "    \n",
    "A = Arbre('A') # Instanciation de l'arbre A, sans enfant.\n",
    "A.G = Arbre('B') # Instanciation de l'arbe B et affectation en tant que sous-arbre gauche de A\n",
    "A.D = Arbre('C') # Instanciation de l'arbe C et affectation en tant que sous-arbre droit de A\n",
    "A.G.G = Arbre('D') # A.G.G désigne B.G\n",
    "A.G.D = Arbre('E') # A.G.D désigne B.D\n",
    "A.D.G = Arbre('F') # A.D désigne C. F devient son sous-arbre gauche\n",
    "A.D.D = Arbre('G')\n",
    "A.D.G.G = Arbre('H') # A.D.G désigne F\n",
    "A.D.G.G.D = Arbre('I') # A.D.G.G  désigne H\n",
    "\n",
    "print(A)\n",
    "#print (A.taille())\n",
    "#print (A.hauteur())"
   ]
  },
  {
   "cell_type": "markdown",
   "metadata": {},
   "source": [
    "&#x2705; <a href=\"https://alainbusser.frama.io/NSI-IREMI-974/chap4_arbres_binaires.html\">Pistes de correction sur ce site</a></div>\n",
    "\n",
    "<u>Rappel de notre arbre_binaire_1:</u>\n",
    "![arbre_bianire_1_reconstruit](https://github.com/ebuonocore/NSIT_09_Arbres/blob/main/sources_arbre_bin/arbre_bin_1_complet_reconstruit.png?raw=true)"
   ]
  },
  {
   "cell_type": "markdown",
   "metadata": {},
   "source": [
    "<div id=\"parcours\"></div>\n",
    "\n",
    "## Parcourir un arbre binaire\n",
    "\n",
    "La méthode \\__repr__ telle qu'elle est codée ci-dessus correspond à un parcours en profondeur que l'on nomme **Parcours préfixe**:\n",
    "Les parents sont affichés avant les enfants.\n",
    "\n",
    "Modifiez le contenu de cette méthode par le code suivant:"
   ]
  },
  {
   "cell_type": "code",
   "execution_count": null,
   "metadata": {},
   "outputs": [],
   "source": [
    "    def __repr__(self):\n",
    "        return (str(self.G)+str(self.D)+self.label).replace('None','.')"
   ]
  },
  {
   "cell_type": "markdown",
   "metadata": {},
   "source": [
    "On obtient alors un **parcours suffixe**: Les enfants sont listés avant les parents ..D..EB...IH.F..GCA\n",
    "\n",
    "Si maintenant on change cette méthode par le code suivant:"
   ]
  },
  {
   "cell_type": "code",
   "execution_count": null,
   "metadata": {},
   "outputs": [],
   "source": [
    "    def __repr__(self):\n",
    "        return str(self.G).replace('None','.')+self.label+str(self.D).replace('None','.')"
   ]
  },
  {
   "cell_type": "markdown",
   "metadata": {},
   "source": [
    "On obtient le parcours **infixe** .D.B.E.A.H.I.F.C.G.\n",
    "\n",
    "**Parcours en largeur**  \n",
    "On effectue le parcours en largeur par **profondeurs** successives.\n",
    "- La racine a une profondeur de 0.\n",
    "- Les enfants d'un nœud au profondeur n-1 sont à la profondeur n.\n",
    "On récupère la liste des nœuds pour chaque profondeur (On donne la liste des nœuds qui sont à cette profondeur. On renvoie donc une liste de listes).\n",
    "\n",
    "Ajoutez le code suivant dans la définition de la classe et testez le sur l'arbre A."
   ]
  },
  {
   "cell_type": "code",
   "execution_count": null,
   "metadata": {},
   "outputs": [],
   "source": [
    "    def parcours_largeur(arbre):\n",
    "        L = [[]]\n",
    "        profondeur = 0\n",
    "        L[profondeur] = [arbre]\n",
    "        while len(L[profondeur]):\n",
    "            profondeur += 1\n",
    "            L.append([])\n",
    "            for node in L[profondeur-1]:\n",
    "                if node.G is not None:\n",
    "                    L[profondeur].append(node.G)\n",
    "                if node.D is not None:\n",
    "                    L[profondeur].append(node.D)\n",
    "        return [[T.label for T in L[n]] for n in range(profondeur)] "
   ]
  },
  {
   "cell_type": "code",
   "execution_count": 1,
   "metadata": {},
   "outputs": [
    {
     "data": {
      "image/jpeg": "[encoded data removed]",
      "text/html": [
       "\n",
       "        <iframe\n",
       "            width=\"800\"\n",
       "            height=\"600\"\n",
       "            src=\"https://www.youtube.com/embed/oqMx1cuw6mo\"\n",
       "            frameborder=\"0\"\n",
       "            allowfullscreen\n",
       "        ></iframe>\n",
       "        "
      ],
      "text/plain": [
       "<IPython.lib.display.YouTubeVideo at 0x7ffa701a1090>"
      ]
     },
     "execution_count": 1,
     "metadata": {},
     "output_type": "execute_result"
    }
   ],
   "source": [
    "# Le bout de code ci-dessous, permet d'insérer la vidéo suivante qu'il faut regarder jusqu'à la fin!\n",
    "from IPython.display import YouTubeVideo\n",
    "YouTubeVideo('oqMx1cuw6mo', width = 800, height = 600)\n",
    "# Les marmottes au sommeil léger par pixees Scienceparticipative(17min32s) "
   ]
  },
  {
   "cell_type": "markdown",
   "metadata": {},
   "source": [
    "\n",
    "![B&W_3D_Tree](https://github.com/ebuonocore/NSIT_09_Arbres/blob/main/sources/art_02.png?raw=true)  \n",
    "<span style=\"font-family:Comic Sans MS; color:gray; font-size: x-small;float:right \">Arbre binaire noir et blanc 3D <a href =\"https://hurna.io/fr/academy/data_structures/bst.html\">hurna.io</a></span> \n"
   ]
  },
  {
   "cell_type": "markdown",
   "metadata": {},
   "source": [
    "---\n",
    "<p style=\"font-family:Comic Sans MS; text-align: center; color:gray; font-size: x-small; \">- Eric Buonocore. Novembre 2020 -<br></p>\n",
    "\n",
    "![Licence CC BY NC SA](https://licensebuttons.net/l/by-nc-sa/3.0/88x31.png)"
   ]
  }
 ],
 "metadata": {
  "kernelspec": {
   "display_name": "Python 3",
   "language": "python",
   "name": "python3"
  },
  "language_info": {
   "codemirror_mode": {
    "name": "ipython",
    "version": 3
   },
   "file_extension": ".py",
   "mimetype": "text/x-python",
   "name": "python",
   "nbconvert_exporter": "python",
   "pygments_lexer": "ipython3",
   "version": "3.7.6"
  }
 },
 "nbformat": 4,
 "nbformat_minor": 4
}
