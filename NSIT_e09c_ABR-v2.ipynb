{
 "cells": [
  {
   "cell_type": "markdown",
   "metadata": {},
   "source": [
    "<div style=\"width:100%;border-collapse:separate;border:solid 2px;border-radius:14px;\">\n",
    "    <div style=\"display:flex;\">\n",
    "        <div style=\"display:inline;width:5%;\"></div>\n",
    "        <div style=\"display:inline;width:15%;\">NSIT</div>\n",
    "        <div style=\"display:inline;width:15%;\">e09b</div>\n",
    "        <div style=\"display:inline;width:70%;text-align:right;\"><b>Structures de données</b></div>\n",
    "        <div style=\"display:inline;width:5%;\"></div>\n",
    "    </div>\n",
    "    <div  style=\"display: flex;background-color:#EEE\">\n",
    "        <p style=\"width:100%;text-align:center;\">Structures hiérarchiques</p>\n",
    "    </div>\n",
    "    <div  style=\"display: flex;\">\n",
    "        <p style=\"width:100%;text-align:center;\">Arbres binaires de Recherche (ABR)</p>\n",
    "    </div>\n",
    "</div>"
   ]
  },
  {
   "cell_type": "markdown",
   "metadata": {},
   "source": [
    "<div class = \"alert alert-success\">\n",
    "    \n",
    "**Objectifs de la séquence:** \n",
    "- Définition \n",
    "- Insérer une clé\n",
    "- Rechercher une clé dans un arbre de recherche"
   ]
  },
  {
   "cell_type": "markdown",
   "metadata": {},
   "source": [
    "<div class = \"alert alert-info\">\n",
    "    \n",
    "**Sommaire :**\n",
    "\n",
    "<a href=#hauteur_taille>Retour sur les propriétés des abres binaires</a>  \n",
    "<a href=#definition>Définition d'un ABR</a>  \n",
    "<a href=#implementation>Implémentation d'un ABR</a>  \n",
    "<a href=#cout>Evaluation du coût d'une recherche</a>  \n",
    "<a href=#></a>  \n",
    "</div>"
   ]
  },
  {
   "cell_type": "markdown",
   "metadata": {},
   "source": [
    "<div id=\"hauteur_taille\"></div>\n",
    "\n",
    "## Retour sur les propriétés des abres binaires \n",
    "\n",
    "### Rapport taille/hauteur\n",
    "Nous cherchons à trouver la **hauteur minimale** d'un arbre connaissant sa **taille** et inversement.\n",
    "\n",
    "Dans la partie qui suit, on ne considérera que des arbres binaire **complets**: Tous les niveaux sont remplis, à l'exception éventuelle du dernier, dans lequel les feuilles sont alignées à gauche.  \n",
    "   \n",
    "On numérote en binaire les noeuds en partant de 1 pour la racine dans le sens du parcours en largeur. "
   ]
  },
  {
   "cell_type": "markdown",
   "metadata": {},
   "source": [
    "![evolution_taille_vs_hauteur](https://raw.githubusercontent.com/ebuonocore/NSIT_09_Arbres/main/source_BST/taille_vs_profondeur.png)"
   ]
  },
  {
   "cell_type": "markdown",
   "metadata": {},
   "source": [
    "On voit que pour une profondeur p, le premier noeud de la ligne s'écrit en binaire avec un 1 suivi de p 0:  \n",
    "Pour p = 1 &#x21D2; Numéro du premier noeud de la ligne =$10_2$ soit 2 en décimal  \n",
    "Pour p = 2 &#x21D2; Numéro du premier noeud de la ligne =$100_2$ soit 4 en décimal  \n",
    "Pour p = 3 &#x21D2; Numéro du premier noeud de la ligne =$100_2$ soit 8 en décimal  \n",
    "\n",
    "Si on note $N$ le nombre minium de noeuds de la racine jusqu'à une profondeur p, on peut généraliser cette relation: \n",
    "<div class = \"alert alert-success\">\n",
    "    <center><big> $N = 2^{p} $</big></center></div>"
   ]
  },
  {
   "cell_type": "markdown",
   "metadata": {},
   "source": [
    "Or la fonction réciproque de la fonction $2^x$ est le $log_2(x)$.  \n",
    "En effet: $log_2(2^x) = x$   \n",
    "D'où: $log_2(N) = log_2(2^p) = p$\n",
    "\n",
    "On en déduit qu'un arbre de $N$ noeuds possède une hauteur minimale de $log_2(N)$.\n",
    "\n",
    "<div class = \"alert alert-success\">\n",
    "    <center><big> $p = log_2(N) $</big></center></div>\n",
    "    \n",
    "**A vous de jouer:**"
   ]
  },
  {
   "cell_type": "markdown",
   "metadata": {},
   "source": [
    "Combien de noeuds compte au minimum un arbre binaire équlibré de hauteur 3: ...\n",
    "\n",
    "Combien de noeuds compte au minimum un arbre binaire équilibré de hauteur 4:\n",
    "\n",
    "Quelle est la hauteur minimale d'un arbre de 32 noeuds: ...\n",
    "\n",
    "Quelle est la hauteur minimale d'un arbre de 128 noeuds: ...\n",
    "\n",
    "Quelle est la hauteur minimale d'un arbre de 127 noeuds: ..."
   ]
  },
  {
   "cell_type": "markdown",
   "metadata": {},
   "source": [
    "&#x2705; <a href=\"https://github.com/ebuonocore/NSIT_09_Arbres/blob/main/source_BST/correction1\">Correction</a></div>\n",
    "\n",
    "### Parcours préfixe, infixe et suffixe\n",
    "Pour simplifier un peu, dans ce paragraphe, nous choisissons une modélisation sans noeuds vides.  \n",
    "Dans les schémas ci-dessous, les <span style=\"color:blue\">traits pointilés </span> représentent la trace du parcours en profondeur classique.  \n",
    "En fonction du positionnement de l'affichage des labels parmis les appels récursifs, on obtient trois présentations différentes.  \n",
    "Les <span style=\"color:orange\">marqueurs oranges</span> indiquent à quel moment du parcours l'affichage du label intervient."
   ]
  },
  {
   "cell_type": "markdown",
   "metadata": {},
   "source": [
    "![3_parcours](https://raw.githubusercontent.com/ebuonocore/NSIT_09_Arbres/main/source_BST/parcours.png)\n",
    "\n",
    "Dans la classe Arbre() nous pouvions choisir parmi ces trois possibilités pour afficher le parcours:"
   ]
  },
  {
   "cell_type": "code",
   "execution_count": 3,
   "metadata": {},
   "outputs": [],
   "source": [
    "# Parcours préfixe\n",
    "def __repr__(self):\n",
    "    return self.label+str(self.G)+str(self.D)"
   ]
  },
  {
   "cell_type": "markdown",
   "metadata": {},
   "source": [
    "Affichage correspondant: ABDECFG"
   ]
  },
  {
   "cell_type": "code",
   "execution_count": null,
   "metadata": {},
   "outputs": [],
   "source": [
    "# Parcours infixe\n",
    "def __repr__(self):\n",
    "    return str(self.G)+self.label+str(self.D)"
   ]
  },
  {
   "cell_type": "markdown",
   "metadata": {},
   "source": [
    "Affichage correspondant: DBEAFCG"
   ]
  },
  {
   "cell_type": "code",
   "execution_count": null,
   "metadata": {},
   "outputs": [],
   "source": [
    "# Parcours suffixe\n",
    "def __repr__(self):\n",
    "    return str(self.G)+str(self.D)+self.label"
   ]
  },
  {
   "cell_type": "markdown",
   "metadata": {},
   "source": [
    "Affichage correspondant: DEBFGCA\n",
    "\n",
    "\n",
    "<div id=\"definition\"></div>\n",
    "\n",
    "## Définition d'un Arbre Binaire de Recherche (ABR)\n",
    "\n",
    "\n",
    "<div class = \"alert alert-success\">\n",
    "    Un <b>arbre binaire de recherche</b> est un arbre binaire dont tous les nœuds portent des étiquettes numériques ordonnées selon les règles suivantes.<br>\n",
    "    L'étiquette portée par un nœud est:<br>\n",
    "    - plus <b>grande</b> que toutes les étiquettes de son <b>sous-arbre gauche</b>.<br>\n",
    "    - plus <b>petite</b> que toutes les étiquettes de son <b>sous-arbre droit<:b>.<br>\n",
    "</div>\n",
    "<i>Remarque: Un ABR se nomme BST en anglais pour binary search tree</i>\n",
    "    \n",
    "<u><i>Arbre_Binaire_de_Recherche_1</i><u>:"
   ]
  },
  {
   "cell_type": "markdown",
   "metadata": {},
   "source": [
    "![ABR_ex_1](https://raw.githubusercontent.com/ebuonocore/NSIT_09_Arbres/main/source_BST/ABR_ex_1.png)\n",
    "\n",
    "**A vous de jouer:** "
   ]
  },
  {
   "cell_type": "markdown",
   "metadata": {},
   "source": [
    "Donnez le parcours infixe de l'Arbre_Binaire_de_Recherche_1 ci-dessus:   \n",
    "Parcours infixe: ...  \n",
    "Remarque: ...  \n",
    "Si on ajoute le noeud de valuer 11, de qui sera-t-il le fils? Gauche ou Droit ?  \n",
    "..."
   ]
  },
  {
   "cell_type": "markdown",
   "metadata": {},
   "source": [
    "&#x2705; <a href=\"https://github.com/ebuonocore/NSIT_09_Arbres/blob/main/source_BST/correction2\">Correction</a></div>"
   ]
  },
  {
   "cell_type": "markdown",
   "metadata": {},
   "source": [
    "**Cherchez l'intru**: Pourquoi l'Arbre_Binaire_2 ci-dessous n'est pas un Arbre Binaire de Recherche?  \n",
    "..."
   ]
  },
  {
   "cell_type": "markdown",
   "metadata": {},
   "source": [
    "![AB_ex_2](https://raw.githubusercontent.com/ebuonocore/NSIT_09_Arbres/main/source_BST/AB_ex_2.png)\n",
    "\n",
    "\n",
    "&#x2705; <a href=\"https://github.com/ebuonocore/NSIT_09_Arbres/blob/main/source_BST/correction3\">Correction</a></div>"
   ]
  },
  {
   "cell_type": "markdown",
   "metadata": {},
   "source": [
    "<div id=\"implementation\"></div>\n",
    "\n",
    "## Implémentation de la classe ABR()\n",
    "\n",
    "Nous cherchons à implémenter la classe ABR(), très proche de la classe Arbre(), qui respecte l'interface suivante:\n",
    "\n",
    "<table style=\"width:200px;\">\n",
    "    <tr>\n",
    "        <td style=\"width:200px;background-color:#CCD;text-align:left\">\n",
    "            <big>\n",
    "            <b>ABR</b>\n",
    "            </big>\n",
    "        </td>\n",
    "    </tr> \n",
    "    <tr>\n",
    "        <td style=\"width:200px;background-color:#EEF;text-align:left\">\n",
    "            <big>\n",
    "            <i><u>Attributs :</u></i><br>\n",
    "            label ('' par défaut)<br>\n",
    "            G (None à l'initialisation)<br>\n",
    "            D (None à l'initialisation)<br>\n",
    "            </big>\n",
    "        </td>\n",
    "    </tr> \n",
    "    <tr>\n",
    "        <td style=\"width:200px;background-color:#CCD;text-align:left\">\n",
    "            <big>\n",
    "            <i><u>Méthodes:</u></i><br>\n",
    "                __repr__()<br>\n",
    "                hauteur()<br>\n",
    "                taille()<br>\n",
    "                dedans()<br>\n",
    "                minimum()<br>\n",
    "                maximum()<br>\n",
    "                ajouter()<br>\n",
    "            </big>\n",
    "        </td>\n",
    "    </tr> \n",
    "</table>"
   ]
  },
  {
   "cell_type": "markdown",
   "metadata": {},
   "source": [
    "**Votre mission:** A partir des algorithmes ou des commentaires donnés: <a href=\"https://github.com/ebuonocore/NSIT_09_Arbres/blob/main/source_BST/algo_ajouter\">ajouter()</a>, <a href=\"https://github.com/ebuonocore/NSIT_09_Arbres/blob/main/source_BST/algo_dedans\">dedans()</a> , <a href=\"https://github.com/ebuonocore/NSIT_09_Arbres/blob/main/source_BST/algo_minimum\">min()</a>, \\__repr__\n",
    "- Complétez les spécifications et commentaires des méthodes: dedans() et ajouter()\n",
    "- Codez les méthodes incomplètes (à la place de 'pass') : min(), \\__repr__()\n",
    "- Testez votre code en enlevant le commentaire du main()"
   ]
  },
  {
   "cell_type": "code",
   "execution_count": 2,
   "metadata": {},
   "outputs": [
    {
     "name": "stdout",
     "output_type": "stream",
     "text": [
      "Minimum de l'ABR None\n",
      "Maximum de l'ABR 300\n",
      "Taille de l'ABR 7\n",
      "Hauteur de l'ABR 3\n",
      "Est-ce que 200 est une valeur de l'ABR True\n",
      "Est-ce que 34 est une valeur de l'ABR False\n"
     ]
    }
   ],
   "source": [
    "class ABR():\n",
    "    def __init__(self,label):\n",
    "        \"\"\" Méthode spéciale d'initialisation\n",
    "        \"\"\"\n",
    "        self.label = label\n",
    "        self.G = None\n",
    "        self.D = None\n",
    "        \n",
    "    def __repr__(self):\n",
    "        \"\"\" Méthode spéciales de la classe: renvoie une représentation de l'objet\n",
    "            Ici, on construit et on renvoie le parcours infixe\n",
    "        \"\"\"\n",
    "        pass # Supprimez 'pass' et mettez votre code ici\n",
    "    \n",
    "    def hauteur(self):\n",
    "        \"\"\" Renvoie la hauteur de l'arbre \n",
    "            c.à.d le maximum des hauteurs des deux sous-arbre + 1\n",
    "        \"\"\"\n",
    "        if self.G is None:\n",
    "            hauteur_fils_gauche = 0 # 0 si le sous-arbre gauche est None\n",
    "        else:\n",
    "            hauteur_fils_gauche = self.G.hauteur() # Evalue la hauteur du sous-arbre gauche\n",
    "        if self.D is None:\n",
    "            hauteur_fils_droit = 0 # 0 si le sous-arbre droit est None\n",
    "        else:\n",
    "            hauteur_fils_droit = self.D.hauteur() # Evalue la hauteur du sous-arbre droit\n",
    "        return 1+max(hauteur_fils_gauche,hauteur_fils_droit) # Renvoie le maximum des hauteurs des deux sous-arbres + 1\n",
    "    \n",
    "    def taille(self):\n",
    "        \"\"\" Renvoie la taille de l'arbre \n",
    "            c.à.d la taille des deux sous-arbre + 1\n",
    "        \"\"\"\n",
    "        if self.G is None:\n",
    "            taille_fils_gauche = 0 # 0 si le sous-arbre gauche est None\n",
    "        else:\n",
    "            taille_fils_gauche = self.G.taille() # Evalue la taille du sous-arbre gauche\n",
    "        if self.D is None:\n",
    "            taille_fils_droit = 0 # 0 si le sous-arbre droit est None\n",
    "        else:\n",
    "            taille_fils_droit = self.D.taille() # Evalue la taille du sous-arbre droit\n",
    "        return 1+taille_fils_gauche+taille_fils_droit # Renvoie 1 + la taille des deux sous-arbres\n",
    "        \n",
    "    def dedans(self,clef):\n",
    "        \"\"\" \n",
    "        \"\"\"\n",
    "        if self.label==clef:\n",
    "            return True\n",
    "        elif self.label>clef and self.G is not None: \n",
    "            return self.G.dedans(clef)\n",
    "        elif self.label<clef and self.D is not None:\n",
    "            return self.D.dedans(clef)\n",
    "        else:\n",
    "            return False\n",
    "\n",
    "    def ajouter(self,clef):\n",
    "        \"\"\" \n",
    "        \"\"\"\n",
    "        assert not self.dedans(clef) \n",
    "        if self.label>clef:\n",
    "            if self.G is None:\n",
    "                self.G = ABR(clef) \n",
    "            else:\n",
    "                self.G.ajouter(clef) \n",
    "        elif self.label<clef:\n",
    "            if self.D is None: \n",
    "                self.D = ABR(clef)\n",
    "            else:\n",
    "                self.D.ajouter(clef) \n",
    "        else:\n",
    "            self=ABR(clef) \n",
    "            \n",
    "    def minimum(self):\n",
    "        \"\"\" Renvoie le minimum de l'ABR\n",
    "        \"\"\"\n",
    "        pass # Supprimez 'pass' et mettez votre code ici\n",
    "    \n",
    "    def maximum(self):\n",
    "        \"\"\" Renvoie le maximum de l'ABR\n",
    "        \"\"\"\n",
    "        # Si le fils droit n'est pas None alors renvoie du maximum du sous-arbre droit\n",
    "        if self.D is None:\n",
    "            return self.label\n",
    "        else:\n",
    "            return self.D.maximum()\n",
    "    \n",
    "if __name__ == \"__main__\":\n",
    "    ABR_ex1 = ABR(100)\n",
    "    ABR_ex1.ajouter(50)\n",
    "    ABR_ex1.ajouter(30)\n",
    "    ABR_ex1.ajouter(60)\n",
    "    ABR_ex1.ajouter(200)\n",
    "    ABR_ex1.ajouter(150)\n",
    "    ABR_ex1.ajouter(300)\n",
    "\n",
    "    #print(\"Affichage de l'ABR:\", ABR_ex1)\n",
    "    print(\"Minimum de l'ABR\",ABR_ex1.minimum())\n",
    "    print(\"Maximum de l'ABR\",ABR_ex1.maximum())\n",
    "    print(\"Taille de l'ABR\",ABR_ex1.taille())\n",
    "    print(\"Hauteur de l'ABR\",ABR_ex1.hauteur())\n",
    "    print(\"Est-ce que 200 est une valeur de l'ABR\",ABR_ex1.dedans(200))\n",
    "    print(\"Est-ce que 34 est une valeur de l'ABR\",ABR_ex1.dedans(34))"
   ]
  },
  {
   "cell_type": "markdown",
   "metadata": {},
   "source": [
    "&#x2705; <a href=\"https://github.com/ebuonocore/NSIT_09_Arbres/blob/main/source_BST/correction_code_ABR\">Correction</a></div>"
   ]
  },
  {
   "cell_type": "markdown",
   "metadata": {},
   "source": [
    "Voila à quoi ressemble notre <u><i>ABR_ex1</i></u>:\n",
    "![ABR_ex1](https://raw.githubusercontent.com/ebuonocore/NSIT_09_Arbres/main/source_BST/ABR_ex_2.png)"
   ]
  },
  {
   "cell_type": "markdown",
   "metadata": {},
   "source": [
    "<div id=\"cout\"></div>\n",
    "\n",
    "## Evaluation du coût d'une recherche\n",
    "\n",
    "Un site de vente référence chaque article avec un numéro.  \n",
    "Nous souhaitons disposer d'une solution permettant de savoir si un numéro d'article existe déjà parmi les articles proposés.  \n",
    "Nous allons mettre en concurence une solution avec une **liste** et une autre avec un **ABR**.  \n",
    "Le code suivant produit une liste d'articles aléatoire et génère l'ABR associé à cette liste."
   ]
  },
  {
   "cell_type": "code",
   "execution_count": 19,
   "metadata": {},
   "outputs": [],
   "source": [
    "\"\"\"\n",
    "Générateur de la liste_valeur et de l'ABR associé\n",
    "\"\"\"\n",
    "\n",
    "import random # Importation de la bibliothèque random pour pouvoir utliser randint\n",
    "\n",
    "liste_valeurs = [] # Initialise la liste_valeurs par la liste vide\n",
    "valeur = -1  # On ajoutera au moins 1 par la suite, donc toutes les valeurs seront positives\n",
    "for i in range(50): # Modifiez éventuellement ici le nombre d'éléments de la liste\n",
    "    valeur += random.randint(1,20) # Chaque élément prend une nouvelle valeur incrémentée d'un nombre aléatoire par rapport à la dernière\n",
    "    liste_valeurs.append(valeur)\n",
    "random.shuffle(liste_valeurs) # Mélange 'en-place' la liste_valeurs\n",
    "ABR_ex2 = ABR(liste_valeurs[0]) # Instancie l'ABR_ex2 avec pour clef la première valeur de liste_valeurs\n",
    "for n in liste_valeurs[1:]: # liste_valeurs[1:] correspond à liste_valeurs privée du premier élément\n",
    "    ABR_ex2.ajouter(n) # Ajoute toutes les valeurs de liste_valeurs (sauf la première) à ABR_ex2"
   ]
  },
  {
   "cell_type": "markdown",
   "metadata": {},
   "source": [
    "Voici un exemple d'une liste de 50 éléments créé et de son ABR associé:  \n",
    "[332, 214, 13, 144, 306, 466, 529, 270, 393, 48, 260, 169, 25, 426, 213, 504, 485, 194, 249, 154, 288, 222, 453, 413, 510, 481, 28, 128, 245, 86, 312, 359, 538, 347, 4, 573, 105, 547, 427, 563, 247, 238, 71, 379, 185, 68, 253, 109, 182, 436]  \n",
    "\n",
    "![ABR_ex_3](https://github.com/ebuonocore/NSIT_09_Arbres/blob/main/source_BST/ABR_ex_3.png?raw=true)"
   ]
  },
  {
   "cell_type": "markdown",
   "metadata": {},
   "source": [
    "**A vous de jouer**: Créez la fonction chercher_dans_liste(clef, ma_liste) qui renvoie True si la valeur clef passée en paramètre se trouve dans ma_liste. Sinon, renoie False."
   ]
  },
  {
   "cell_type": "code",
   "execution_count": 20,
   "metadata": {},
   "outputs": [
    {
     "data": {
      "text/plain": [
       "False"
      ]
     },
     "execution_count": 20,
     "metadata": {},
     "output_type": "execute_result"
    }
   ],
   "source": [
    "def chercher_dans_liste(clef:int, ma_liste:list)->bool:\n",
    "    \"\"\" Renvoie True si la valeur clef se trouve dans ma_liste.\n",
    "        Sinon, renoie False.\n",
    "    \"\"\"\n",
    "    pass # Supprimez 'pass' et mettez votre code ici\n",
    "\n",
    "#print(liste_valeurs)\n",
    "chercher_dans_liste(100,liste_valeurs) # Retestez votre fonction avec une valeur de clef qui apparait dans la liste"
   ]
  },
  {
   "cell_type": "markdown",
   "metadata": {},
   "source": [
    "&#x2705; <a href=\"https://github.com/ebuonocore/NSIT_09_Arbres/blob/main/source_BST/correction_chercher_dans_liste\">Correction</a></div>\n",
    "\n",
    "Les codes ci-dessous permmettent de chronométrer sur 1000 répétitions la recherche d'une valeur dans la liste ou dans l'ABR.  \n",
    "Nous cherchons volontairement une valeur très grande absente des données pour se placer dans le pire cas. "
   ]
  },
  {
   "cell_type": "code",
   "execution_count": 21,
   "metadata": {},
   "outputs": [
    {
     "name": "stdout",
     "output_type": "stream",
     "text": [
      "40.6 µs ± 346 ns per loop (mean ± std. dev. of 7 runs, 10000 loops each)\n"
     ]
    }
   ],
   "source": [
    "import timeit\n",
    "%timeit chercher_dans_liste(100000,liste_valeurs)"
   ]
  },
  {
   "cell_type": "code",
   "execution_count": 22,
   "metadata": {},
   "outputs": [
    {
     "name": "stdout",
     "output_type": "stream",
     "text": [
      "5.2 µs ± 68.8 ns per loop (mean ± std. dev. of 7 runs, 100000 loops each)\n"
     ]
    }
   ],
   "source": [
    "%timeit ABR_ex2.dedans(1000000)"
   ]
  },
  {
   "cell_type": "code",
   "execution_count": 23,
   "metadata": {},
   "outputs": [
    {
     "data": {
      "text/plain": [
       "24"
      ]
     },
     "execution_count": 23,
     "metadata": {},
     "output_type": "execute_result"
    }
   ],
   "source": [
    "ABR_ex2.hauteur()"
   ]
  },
  {
   "cell_type": "markdown",
   "metadata": {},
   "source": [
    "**A vous de jouer:** Dans le 'Générateur de la liste_valeur et de l'ABR associé', modifiez le nombre d'éléments de la liste: Faites l'essai pour 50, 1000 et 20000 éléments.  \n",
    "Que remarquez vous?"
   ]
  },
  {
   "cell_type": "markdown",
   "metadata": {},
   "source": [
    "Les temps sont donnés en µs  \n",
    "Pour 50 éléments:  \n",
    "    Temps de la recherhche dans la liste: ...  \n",
    "    Temps de la recherhche dans l'ABR: ...  \n",
    "    \n",
    "Pour 1000 éléments:  \n",
    "    Temps de la recherhche dans la liste: ...  \n",
    "    Temps de la recherhche dans l'ABR: ...  \n",
    "    \n",
    "Pour 20000 éléments:  \n",
    "    Temps de la recherhche dans la liste: ...  \n",
    "    Temps de la recherhche dans l'ABR: ...  \n",
    "Remarque: ...  "
   ]
  },
  {
   "cell_type": "markdown",
   "metadata": {},
   "source": [
    "**Hypothèse:** Une liste de 20000 éléments correspond à un ABR de hauteur 24.  \n",
    "Combien de tests seront nécessaires dans le pire cas pour chercher une valeur:  \n",
    "* dans cette liste? ...\n",
    "* dans cet ABR ? ...\n",
    "\n",
    "Si la liste liste_valeurs était préalablement triée, quel algorithme nous permettrait de chercher la valeur plus vite?  \n",
    "...  \n",
    "Combien de tests seraient alors nécessaires sur une liste de 20000 éléments triés?  \n",
    "..."
   ]
  },
  {
   "cell_type": "markdown",
   "metadata": {},
   "source": [
    "**Un cas de figure défavorable:**  \n",
    "L'ABR est créé à partir d'une liste d'éléments triés: L'ABR ainsi créé est **dégénéré**   \n",
    "\n",
    "Voici l'ABR généré à partir des valeurs de la liste triées suivante: [8, 24, 43, 44, 55, 68, 75, 95, 97, 109]\n",
    "\n",
    "![ABR_ex_4](https://github.com/ebuonocore/NSIT_09_Arbres/blob/main/source_BST/ABR_ex_4.png?raw=true)\n",
    "\n",
    "Dans ce cas, on a $Taille = Hauteur - 1$  \n",
    "Une recherche dans ce type d'ABR prend dans la pire cas $Taille$ coups... Ce n'est pas mieux que dans une liste."
   ]
  },
  {
   "cell_type": "markdown",
   "metadata": {},
   "source": [
    "---\n",
    "<p style=\"font-family:Comic Sans MS; text-align: center; color:gray; font-size: x-small; \">- Eric Buonocore. Novembre 2020 -<br></p>\n",
    "\n",
    "![Licence CC BY NC SA](https://licensebuttons.net/l/by-nc-sa/3.0/88x31.png)"
   ]
  }
 ],
 "metadata": {
  "kernelspec": {
   "display_name": "Python 3",
   "language": "python",
   "name": "python3"
  },
  "language_info": {
   "codemirror_mode": {
    "name": "ipython",
    "version": 3
   },
   "file_extension": ".py",
   "mimetype": "text/x-python",
   "name": "python",
   "nbconvert_exporter": "python",
   "pygments_lexer": "ipython3",
   "version": "3.7.6"
  }
 },
 "nbformat": 4,
 "nbformat_minor": 4
}
